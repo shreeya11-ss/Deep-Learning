{
 "cells": [
  {
   "cell_type": "markdown",
   "metadata": {},
   "source": [
    "# Create A single Neuron or a perceptron"
   ]
  },
  {
   "cell_type": "markdown",
   "metadata": {},
   "source": [
    "Components\n",
    "- input\n",
    "- weighted sum\n",
    "- bias \n",
    "- activation \n",
    "- loss\n",
    "- update the weight\n",
    "- repeat the process till a good accuracy"
   ]
  },
  {
   "cell_type": "code",
   "execution_count": 123,
   "metadata": {},
   "outputs": [],
   "source": [
    "import numpy as np"
   ]
  },
  {
   "cell_type": "code",
   "execution_count": 124,
   "metadata": {},
   "outputs": [],
   "source": [
    "# create an activation function(step function)\n",
    "\n",
    "def step_function(weighted_sum):\n",
    "    if weighted_sum>=5:\n",
    "        return 1\n",
    "    if(weighted_sum<0):\n",
    "        return 0\n"
   ]
  },
  {
   "cell_type": "code",
   "execution_count": 125,
   "metadata": {},
   "outputs": [],
   "source": [
    "#placement\n",
    "package=10\n",
    "location=4\n",
    "company=3\n",
    "alpha_1=0.7\n",
    "alpha_2=0.2\n",
    "alpha_3=0.1\n",
    "bias=2\n",
    "weighted_sum=alpha_1*package+alpha_2*location+alpha_3*company +bias"
   ]
  },
  {
   "cell_type": "code",
   "execution_count": 126,
   "metadata": {},
   "outputs": [
    {
     "data": {
      "text/plain": [
       "1"
      ]
     },
     "execution_count": 126,
     "metadata": {},
     "output_type": "execute_result"
    }
   ],
   "source": [
    "step_function(weighted_sum)"
   ]
  },
  {
   "cell_type": "code",
   "execution_count": 127,
   "metadata": {},
   "outputs": [],
   "source": [
    "#student 1\n",
    "name=\"shreeya\"\n",
    "roll=23\n",
    "year_passing=2026\n",
    "branch=\"CSE\""
   ]
  },
  {
   "cell_type": "code",
   "execution_count": 128,
   "metadata": {},
   "outputs": [],
   "source": [
    "class student:\n",
    "    def __init__(self,name,roll,year_passing,branch):\n",
    "        self.name=name\n",
    "        self.roll=roll\n",
    "        self.year_passing=year_passing\n",
    "        self.branch=branch\n",
    "    def summary(self):\n",
    "        print(f\"name={self.name}\\nroll={self.roll}\\nyear of passing={self.year_passing}\\nbranch={self.branch}\")"
   ]
  },
  {
   "cell_type": "code",
   "execution_count": 129,
   "metadata": {},
   "outputs": [
    {
     "name": "stdout",
     "output_type": "stream",
     "text": [
      "name=shubhi\n",
      "roll=12\n",
      "year of passing=2024\n",
      "branch=vite\n"
     ]
    }
   ],
   "source": [
    "student1=student(\"shubhi\",12,2024,\"vite\")\n",
    "student1.summary()"
   ]
  },
  {
   "cell_type": "code",
   "execution_count": 130,
   "metadata": {},
   "outputs": [],
   "source": [
    "class basic_calculator:\n",
    "    def __init__(self,x,y):\n",
    "        self.x=x\n",
    "        self.y=y\n",
    "        \n",
    "    def add(self):\n",
    "        return self.x+self.y\n",
    "    def sub(self):\n",
    "        return self.x-self.y\n",
    "    def mul(self):\n",
    "        return self.x*self.y\n",
    "    def div(self):\n",
    "        return self.x/self.y\n",
    "    \n",
    "      "
   ]
  },
  {
   "cell_type": "code",
   "execution_count": 131,
   "metadata": {},
   "outputs": [],
   "source": [
    "obj1=basic_calculator(10,5)"
   ]
  },
  {
   "cell_type": "code",
   "execution_count": 132,
   "metadata": {},
   "outputs": [
    {
     "data": {
      "text/plain": [
       "15"
      ]
     },
     "execution_count": 132,
     "metadata": {},
     "output_type": "execute_result"
    }
   ],
   "source": [
    "obj1.add()"
   ]
  },
  {
   "cell_type": "code",
   "execution_count": 133,
   "metadata": {},
   "outputs": [
    {
     "data": {
      "text/plain": [
       "array([[10,  3,  4],\n",
       "       [12,  4,  4],\n",
       "       [15,  2,  2],\n",
       "       [20,  1,  1]])"
      ]
     },
     "execution_count": 133,
     "metadata": {},
     "output_type": "execute_result"
    }
   ],
   "source": [
    "input_matrix=np.array([[10,3,4],\n",
    "                       [12,4,4],\n",
    "                       [15,2,2],\n",
    "                       [20,1,1]])\n",
    "input_matrix"
   ]
  },
  {
   "cell_type": "code",
   "execution_count": 134,
   "metadata": {},
   "outputs": [
    {
     "data": {
      "text/plain": [
       "(3, 1)"
      ]
     },
     "execution_count": 134,
     "metadata": {},
     "output_type": "execute_result"
    }
   ],
   "source": [
    "weight_matrix=np.array([0.7,0.2,0.1]).reshape(3,1)\n",
    "weight_matrix.shape"
   ]
  },
  {
   "cell_type": "code",
   "execution_count": 135,
   "metadata": {},
   "outputs": [
    {
     "ename": "NameError",
     "evalue": "name 'b' is not defined",
     "output_type": "error",
     "traceback": [
      "\u001b[1;31m---------------------------------------------------------------------------\u001b[0m",
      "\u001b[1;31mNameError\u001b[0m                                 Traceback (most recent call last)",
      "Cell \u001b[1;32mIn[135], line 1\u001b[0m\n\u001b[1;32m----> 1\u001b[0m np\u001b[38;5;241m.\u001b[39mmatmul(input_matrix,weight_matrix)\u001b[38;5;241m+\u001b[39m\u001b[43mb\u001b[49m\n",
      "\u001b[1;31mNameError\u001b[0m: name 'b' is not defined"
     ]
    }
   ],
   "source": [
    "np.matmul(input_matrix,weight_matrix)+b"
   ]
  },
  {
   "cell_type": "code",
   "execution_count": 184,
   "metadata": {},
   "outputs": [],
   "source": [
    "import numpy as np\n",
    "\n",
    "class Perceptron:\n",
    "    def __init__(self, inputs, output):\n",
    "        self.inputs = inputs\n",
    "        self.weight_matrix = np.array([0.7, 0.2, 0.1])\n",
    "        self.bias = 5\n",
    "        self.output = output\n",
    "\n",
    "    def weighted_sum(self):\n",
    "        sum = np.dot(self.inputs, self.weight_matrix) + self.bias\n",
    "        return sum\n",
    "    \n",
    "    def activation_func(self, sum):\n",
    "        if sum > 0:\n",
    "            return 1\n",
    "        elif sum <= 0:  # Changed from \"if sum < 0\" to \"elif sum <= 0\"\n",
    "            return 0\n",
    "    \n",
    "    def predict(self):\n",
    "        sum = self.weighted_sum()\n",
    "        self.predicted = []\n",
    "        for i in range(sum.shape[0]):\n",
    "            self.predicted.append(self.activation_func(sum[i]))\n",
    "        return self.predicted\n",
    "        \n",
    "    def calculate_loss(self):\n",
    "        self.loss = np.array(self.predict()) - np.array(self.output)\n",
    "        return self.loss\n",
    "\n",
    "    def weight_updates(self):\n",
    "        self.weight_matrix = self.weight_matrix - 0.01 * np.dot(self.inputs.T, self.calculate_loss()) # a small change\n",
    "        self.bias = self.bias - 0.1 * np.sum(self.calculate_loss()) # a small change\n",
    "\n",
    "    def fit(self):\n",
    "        self.num_epoch = 100\n",
    "        for i in range(self.num_epoch):\n",
    "            self.weight_updates()\n",
    "            print(f\"Loss after epoch {i} is {np.sum(self.loss)}\")  # A small change\n",
    "            \n",
    "            "
   ]
  },
  {
   "cell_type": "code",
   "execution_count": 185,
   "metadata": {},
   "outputs": [],
   "source": [
    "input_data=np.array([[10,3,3],\n",
    "                     [12,4,4],\n",
    "                     [15,2,2],\n",
    "                     [20,1,1],\n",
    "                     [10,5,5],\n",
    "                     [8,5,5]])\n",
    "output=[1,1,0,0,1,1]"
   ]
  },
  {
   "cell_type": "code",
   "execution_count": 186,
   "metadata": {},
   "outputs": [],
   "source": [
    "perceptron1=Perceptron(input_data,output)"
   ]
  },
  {
   "cell_type": "code",
   "execution_count": 187,
   "metadata": {},
   "outputs": [
    {
     "name": "stdout",
     "output_type": "stream",
     "text": [
      "Loss after epoch 0 is 2\n",
      "Loss after epoch 1 is 2\n",
      "Loss after epoch 2 is 0\n",
      "Loss after epoch 3 is 0\n",
      "Loss after epoch 4 is 0\n",
      "Loss after epoch 5 is 0\n",
      "Loss after epoch 6 is 0\n",
      "Loss after epoch 7 is 0\n",
      "Loss after epoch 8 is 0\n",
      "Loss after epoch 9 is 0\n",
      "Loss after epoch 10 is 0\n",
      "Loss after epoch 11 is 0\n",
      "Loss after epoch 12 is 0\n",
      "Loss after epoch 13 is 0\n",
      "Loss after epoch 14 is 0\n",
      "Loss after epoch 15 is 0\n",
      "Loss after epoch 16 is 0\n",
      "Loss after epoch 17 is 0\n",
      "Loss after epoch 18 is 0\n",
      "Loss after epoch 19 is 0\n",
      "Loss after epoch 20 is 0\n",
      "Loss after epoch 21 is 0\n",
      "Loss after epoch 22 is 0\n",
      "Loss after epoch 23 is 0\n",
      "Loss after epoch 24 is 0\n",
      "Loss after epoch 25 is 0\n",
      "Loss after epoch 26 is 0\n",
      "Loss after epoch 27 is 0\n",
      "Loss after epoch 28 is 0\n",
      "Loss after epoch 29 is 0\n",
      "Loss after epoch 30 is 0\n",
      "Loss after epoch 31 is 0\n",
      "Loss after epoch 32 is 0\n",
      "Loss after epoch 33 is 0\n",
      "Loss after epoch 34 is 0\n",
      "Loss after epoch 35 is 0\n",
      "Loss after epoch 36 is 0\n",
      "Loss after epoch 37 is 0\n",
      "Loss after epoch 38 is 0\n",
      "Loss after epoch 39 is 0\n",
      "Loss after epoch 40 is 0\n",
      "Loss after epoch 41 is 0\n",
      "Loss after epoch 42 is 0\n",
      "Loss after epoch 43 is 0\n",
      "Loss after epoch 44 is 0\n",
      "Loss after epoch 45 is 0\n",
      "Loss after epoch 46 is 0\n",
      "Loss after epoch 47 is 0\n",
      "Loss after epoch 48 is 0\n",
      "Loss after epoch 49 is 0\n",
      "Loss after epoch 50 is 0\n",
      "Loss after epoch 51 is 0\n",
      "Loss after epoch 52 is 0\n",
      "Loss after epoch 53 is 0\n",
      "Loss after epoch 54 is 0\n",
      "Loss after epoch 55 is 0\n",
      "Loss after epoch 56 is 0\n",
      "Loss after epoch 57 is 0\n",
      "Loss after epoch 58 is 0\n",
      "Loss after epoch 59 is 0\n",
      "Loss after epoch 60 is 0\n",
      "Loss after epoch 61 is 0\n",
      "Loss after epoch 62 is 0\n",
      "Loss after epoch 63 is 0\n",
      "Loss after epoch 64 is 0\n",
      "Loss after epoch 65 is 0\n",
      "Loss after epoch 66 is 0\n",
      "Loss after epoch 67 is 0\n",
      "Loss after epoch 68 is 0\n",
      "Loss after epoch 69 is 0\n",
      "Loss after epoch 70 is 0\n",
      "Loss after epoch 71 is 0\n",
      "Loss after epoch 72 is 0\n",
      "Loss after epoch 73 is 0\n",
      "Loss after epoch 74 is 0\n",
      "Loss after epoch 75 is 0\n",
      "Loss after epoch 76 is 0\n",
      "Loss after epoch 77 is 0\n",
      "Loss after epoch 78 is 0\n",
      "Loss after epoch 79 is 0\n",
      "Loss after epoch 80 is 0\n",
      "Loss after epoch 81 is 0\n",
      "Loss after epoch 82 is 0\n",
      "Loss after epoch 83 is 0\n",
      "Loss after epoch 84 is 0\n",
      "Loss after epoch 85 is 0\n",
      "Loss after epoch 86 is 0\n",
      "Loss after epoch 87 is 0\n",
      "Loss after epoch 88 is 0\n",
      "Loss after epoch 89 is 0\n",
      "Loss after epoch 90 is 0\n",
      "Loss after epoch 91 is 0\n",
      "Loss after epoch 92 is 0\n",
      "Loss after epoch 93 is 0\n",
      "Loss after epoch 94 is 0\n",
      "Loss after epoch 95 is 0\n",
      "Loss after epoch 96 is 0\n",
      "Loss after epoch 97 is 0\n",
      "Loss after epoch 98 is 0\n",
      "Loss after epoch 99 is 0\n"
     ]
    }
   ],
   "source": [
    "perceptron1.fit()"
   ]
  },
  {
   "cell_type": "code",
   "execution_count": 188,
   "metadata": {},
   "outputs": [],
   "source": [
    "import numpy as np\n",
    "import pandas as pd"
   ]
  },
  {
   "cell_type": "code",
   "execution_count": 189,
   "metadata": {},
   "outputs": [
    {
     "data": {
      "text/html": [
       "<div>\n",
       "<style scoped>\n",
       "    .dataframe tbody tr th:only-of-type {\n",
       "        vertical-align: middle;\n",
       "    }\n",
       "\n",
       "    .dataframe tbody tr th {\n",
       "        vertical-align: top;\n",
       "    }\n",
       "\n",
       "    .dataframe thead th {\n",
       "        text-align: right;\n",
       "    }\n",
       "</style>\n",
       "<table border=\"1\" class=\"dataframe\">\n",
       "  <thead>\n",
       "    <tr style=\"text-align: right;\">\n",
       "      <th></th>\n",
       "      <th>age</th>\n",
       "      <th>sex</th>\n",
       "      <th>chest pain type</th>\n",
       "      <th>resting bp s</th>\n",
       "      <th>cholesterol</th>\n",
       "      <th>fasting blood sugar</th>\n",
       "      <th>resting ecg</th>\n",
       "      <th>max heart rate</th>\n",
       "      <th>exercise angina</th>\n",
       "      <th>oldpeak</th>\n",
       "      <th>ST slope</th>\n",
       "      <th>target</th>\n",
       "    </tr>\n",
       "  </thead>\n",
       "  <tbody>\n",
       "    <tr>\n",
       "      <th>0</th>\n",
       "      <td>40</td>\n",
       "      <td>1</td>\n",
       "      <td>2</td>\n",
       "      <td>140</td>\n",
       "      <td>289</td>\n",
       "      <td>0</td>\n",
       "      <td>0</td>\n",
       "      <td>172</td>\n",
       "      <td>0</td>\n",
       "      <td>0.0</td>\n",
       "      <td>1</td>\n",
       "      <td>0</td>\n",
       "    </tr>\n",
       "    <tr>\n",
       "      <th>1</th>\n",
       "      <td>49</td>\n",
       "      <td>0</td>\n",
       "      <td>3</td>\n",
       "      <td>160</td>\n",
       "      <td>180</td>\n",
       "      <td>0</td>\n",
       "      <td>0</td>\n",
       "      <td>156</td>\n",
       "      <td>0</td>\n",
       "      <td>1.0</td>\n",
       "      <td>2</td>\n",
       "      <td>1</td>\n",
       "    </tr>\n",
       "    <tr>\n",
       "      <th>2</th>\n",
       "      <td>37</td>\n",
       "      <td>1</td>\n",
       "      <td>2</td>\n",
       "      <td>130</td>\n",
       "      <td>283</td>\n",
       "      <td>0</td>\n",
       "      <td>1</td>\n",
       "      <td>98</td>\n",
       "      <td>0</td>\n",
       "      <td>0.0</td>\n",
       "      <td>1</td>\n",
       "      <td>0</td>\n",
       "    </tr>\n",
       "    <tr>\n",
       "      <th>3</th>\n",
       "      <td>48</td>\n",
       "      <td>0</td>\n",
       "      <td>4</td>\n",
       "      <td>138</td>\n",
       "      <td>214</td>\n",
       "      <td>0</td>\n",
       "      <td>0</td>\n",
       "      <td>108</td>\n",
       "      <td>1</td>\n",
       "      <td>1.5</td>\n",
       "      <td>2</td>\n",
       "      <td>1</td>\n",
       "    </tr>\n",
       "    <tr>\n",
       "      <th>4</th>\n",
       "      <td>54</td>\n",
       "      <td>1</td>\n",
       "      <td>3</td>\n",
       "      <td>150</td>\n",
       "      <td>195</td>\n",
       "      <td>0</td>\n",
       "      <td>0</td>\n",
       "      <td>122</td>\n",
       "      <td>0</td>\n",
       "      <td>0.0</td>\n",
       "      <td>1</td>\n",
       "      <td>0</td>\n",
       "    </tr>\n",
       "  </tbody>\n",
       "</table>\n",
       "</div>"
      ],
      "text/plain": [
       "   age  sex  chest pain type  resting bp s  cholesterol  fasting blood sugar  \\\n",
       "0   40    1                2           140          289                    0   \n",
       "1   49    0                3           160          180                    0   \n",
       "2   37    1                2           130          283                    0   \n",
       "3   48    0                4           138          214                    0   \n",
       "4   54    1                3           150          195                    0   \n",
       "\n",
       "   resting ecg  max heart rate  exercise angina  oldpeak  ST slope  target  \n",
       "0            0             172                0      0.0         1       0  \n",
       "1            0             156                0      1.0         2       1  \n",
       "2            1              98                0      0.0         1       0  \n",
       "3            0             108                1      1.5         2       1  \n",
       "4            0             122                0      0.0         1       0  "
      ]
     },
     "execution_count": 189,
     "metadata": {},
     "output_type": "execute_result"
    }
   ],
   "source": [
    "df=pd.read_csv(\".\\heart_statlog_cleveland_hungary_final.csv\")\n",
    "df.head()"
   ]
  },
  {
   "cell_type": "code",
   "execution_count": 192,
   "metadata": {},
   "outputs": [],
   "source": [
    "input_df=np.array(df[['age','sex','chest pain type']])\n",
    "output_df=list(df['target'])"
   ]
  },
  {
   "cell_type": "code",
   "execution_count": 193,
   "metadata": {},
   "outputs": [
    {
     "name": "stdout",
     "output_type": "stream",
     "text": [
      "Loss after epoch 0 is -629\n",
      "Loss after epoch 1 is 561\n",
      "Loss after epoch 2 is -629\n",
      "Loss after epoch 3 is 561\n",
      "Loss after epoch 4 is -629\n",
      "Loss after epoch 5 is 561\n",
      "Loss after epoch 6 is -629\n",
      "Loss after epoch 7 is 561\n",
      "Loss after epoch 8 is -629\n",
      "Loss after epoch 9 is 561\n",
      "Loss after epoch 10 is 561\n",
      "Loss after epoch 11 is -629\n",
      "Loss after epoch 12 is 561\n",
      "Loss after epoch 13 is -629\n",
      "Loss after epoch 14 is 561\n",
      "Loss after epoch 15 is -629\n",
      "Loss after epoch 16 is 561\n",
      "Loss after epoch 17 is -629\n",
      "Loss after epoch 18 is 561\n",
      "Loss after epoch 19 is 561\n",
      "Loss after epoch 20 is -629\n",
      "Loss after epoch 21 is 561\n",
      "Loss after epoch 22 is -629\n",
      "Loss after epoch 23 is 561\n",
      "Loss after epoch 24 is -629\n",
      "Loss after epoch 25 is 561\n",
      "Loss after epoch 26 is -629\n",
      "Loss after epoch 27 is 561\n",
      "Loss after epoch 28 is -629\n",
      "Loss after epoch 29 is 561\n",
      "Loss after epoch 30 is 561\n",
      "Loss after epoch 31 is -629\n",
      "Loss after epoch 32 is 561\n",
      "Loss after epoch 33 is -629\n",
      "Loss after epoch 34 is 561\n",
      "Loss after epoch 35 is -629\n",
      "Loss after epoch 36 is 561\n",
      "Loss after epoch 37 is -629\n",
      "Loss after epoch 38 is 561\n",
      "Loss after epoch 39 is 561\n",
      "Loss after epoch 40 is -629\n",
      "Loss after epoch 41 is 561\n",
      "Loss after epoch 42 is -629\n",
      "Loss after epoch 43 is 561\n",
      "Loss after epoch 44 is -629\n",
      "Loss after epoch 45 is 561\n",
      "Loss after epoch 46 is -629\n",
      "Loss after epoch 47 is 561\n",
      "Loss after epoch 48 is 350\n",
      "Loss after epoch 49 is -629\n",
      "Loss after epoch 50 is 561\n",
      "Loss after epoch 51 is -629\n",
      "Loss after epoch 52 is 561\n",
      "Loss after epoch 53 is 561\n",
      "Loss after epoch 54 is -629\n",
      "Loss after epoch 55 is 561\n",
      "Loss after epoch 56 is -629\n",
      "Loss after epoch 57 is 561\n",
      "Loss after epoch 58 is -629\n",
      "Loss after epoch 59 is 561\n",
      "Loss after epoch 60 is -629\n",
      "Loss after epoch 61 is 561\n",
      "Loss after epoch 62 is -629\n",
      "Loss after epoch 63 is 561\n",
      "Loss after epoch 64 is 561\n",
      "Loss after epoch 65 is -629\n",
      "Loss after epoch 66 is 561\n",
      "Loss after epoch 67 is -629\n",
      "Loss after epoch 68 is 561\n",
      "Loss after epoch 69 is -629\n",
      "Loss after epoch 70 is 561\n",
      "Loss after epoch 71 is -629\n",
      "Loss after epoch 72 is 561\n",
      "Loss after epoch 73 is 561\n",
      "Loss after epoch 74 is -629\n",
      "Loss after epoch 75 is 561\n",
      "Loss after epoch 76 is -629\n",
      "Loss after epoch 77 is 561\n",
      "Loss after epoch 78 is -629\n",
      "Loss after epoch 79 is 561\n",
      "Loss after epoch 80 is -629\n",
      "Loss after epoch 81 is 561\n",
      "Loss after epoch 82 is 312\n",
      "Loss after epoch 83 is -629\n",
      "Loss after epoch 84 is 561\n",
      "Loss after epoch 85 is -629\n",
      "Loss after epoch 86 is 561\n",
      "Loss after epoch 87 is 495\n",
      "Loss after epoch 88 is -629\n",
      "Loss after epoch 89 is 561\n",
      "Loss after epoch 90 is -629\n",
      "Loss after epoch 91 is 561\n",
      "Loss after epoch 92 is -629\n",
      "Loss after epoch 93 is 561\n",
      "Loss after epoch 94 is -629\n",
      "Loss after epoch 95 is 561\n",
      "Loss after epoch 96 is 561\n",
      "Loss after epoch 97 is -629\n",
      "Loss after epoch 98 is 561\n",
      "Loss after epoch 99 is -629\n"
     ]
    }
   ],
   "source": [
    "perceptron2=Perceptron(input_df,output_df)\n",
    "perceptron2.fit()"
   ]
  },
  {
   "cell_type": "code",
   "execution_count": 194,
   "metadata": {},
   "outputs": [
    {
     "data": {
      "text/plain": [
       "0.4714285714285714"
      ]
     },
     "execution_count": 194,
     "metadata": {},
     "output_type": "execute_result"
    }
   ],
   "source": [
    "from sklearn.metrics import accuracy_score\n",
    "accuracy_score(perceptron2.predict(),output)"
   ]
  },
  {
   "cell_type": "code",
   "execution_count": null,
   "metadata": {},
   "outputs": [],
   "source": [
    "len(output_df)"
   ]
  }
 ],
 "metadata": {
  "kernelspec": {
   "display_name": "Python 3",
   "language": "python",
   "name": "python3"
  },
  "language_info": {
   "codemirror_mode": {
    "name": "ipython",
    "version": 3
   },
   "file_extension": ".py",
   "mimetype": "text/x-python",
   "name": "python",
   "nbconvert_exporter": "python",
   "pygments_lexer": "ipython3",
   "version": "3.11.4"
  }
 },
 "nbformat": 4,
 "nbformat_minor": 2
}
